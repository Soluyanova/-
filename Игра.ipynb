{
 "cells": [
  {
   "cell_type": "code",
   "execution_count": 1,
   "metadata": {},
   "outputs": [],
   "source": [
    "import random"
   ]
  },
  {
   "cell_type": "code",
   "execution_count": 2,
   "metadata": {},
   "outputs": [],
   "source": [
    "#Функция, которая берёт значение по ключу\n",
    "def get_key(dct, value):\n",
    "    for k, v in dct.items():\n",
    "        if v == value:\n",
    "            return k"
   ]
  },
  {
   "cell_type": "code",
   "execution_count": 3,
   "metadata": {},
   "outputs": [],
   "source": [
    "se=[]"
   ]
  },
  {
   "cell_type": "code",
   "execution_count": 12,
   "metadata": {},
   "outputs": [
    {
     "name": "stdout",
     "output_type": "stream",
     "text": [
      "Добро пожаловать в игру \"Угадай с пяти раз\"! Введите Ваше имя: Татьяна\n",
      "Введите число от 1 до 18 включительно или \"Выход\": 11\n",
      "Ответ принят.\n",
      "Вы не угадали. Загаданное число больше.\n",
      "Осталось попыток:  4\n",
      "Введите число от 1 до 18 включительно или \"Выход\": 15\n",
      "Ответ принят.\n",
      "Вы не угадали. Загаданное число меньше.\n",
      "Осталось попыток:  3\n",
      "Введите число от 1 до 18 включительно или \"Выход\": 13\n",
      "Ответ принят.\n",
      "Вы не угадали. Загаданное число меньше.\n",
      "Осталось попыток:  2\n",
      "Введите число от 1 до 18 включительно или \"Выход\": 12\n",
      "Ответ принят.\n",
      "Вы угадали!\n",
      "Было загадано число  12\n",
      "Тройка лидеров:\n",
      "Екатерина 3\n",
      "Наталия 4\n",
      "Марина 4\n"
     ]
    }
   ],
   "source": [
    "z=random.randint(1,18)\n",
    "#print(z)\n",
    "name=input('Добро пожаловать в игру \"Угадай с пяти раз\"! Введите Ваше имя: ')\n",
    "ite=1\n",
    "p=1000\n",
    "while ite<=5:\n",
    "    inp=input('Введите число от 1 до 18 включительно или \"Выход\": ')\n",
    "    try:\n",
    "        if (inp==\"Выход\" or inp==\"выход\"):\n",
    "            break\n",
    "        else:\n",
    "            n=int(inp)\n",
    "            if n>=1 and n<=18:\n",
    "                print(\"Ответ принят.\")\n",
    "            else:\n",
    "                print('Попытка не засчитана. Будьте внимательнее! Попробуйте заново.')\n",
    "                break\n",
    "    except ValueError:\n",
    "        print('Попытка не засчитана. Будьте внимательнее! Попробуйте заново.')\n",
    "        break\n",
    "\n",
    "    if n==z:\n",
    "        print(\"Вы угадали!\")\n",
    "        #print(ite)\n",
    "        p=ite\n",
    "        break\n",
    "    else:\n",
    "        if n>z:\n",
    "            print(\"Вы не угадали. Загаданное число меньше.\")\n",
    "        else:\n",
    "            print(\"Вы не угадали. Загаданное число больше.\")\n",
    "        print(\"Осталось попыток: \",5-ite)\n",
    "        ite+=1\n",
    "print(\"Было загадано число \",z)\n",
    "\n",
    "se.append([name,p])\n",
    "re=dict(se)\n",
    "bro=[[list(re)[j],[re.get(i) for i in re][j]] for j in range(len(re))]\n",
    "\n",
    "with open('C://Users/forte/Desktop/1.csv','w') as f1:\n",
    "    for i in bro:\n",
    "        f1.write(\"%s;%d\\n\" % (i[0],i[1]))\n",
    "\n",
    "if (len(bro)==1 or len(bro)==2):\n",
    "    if len(bro)==1:\n",
    "        print(\"Лидер:\")\n",
    "        print(get_key(re,min(re.values())),re.pop(get_key(re,min(re.values()))))\n",
    "    else:\n",
    "        print(\"Лидеры:\")\n",
    "        print(get_key(re,min(re.values())),re.pop(get_key(re,min(re.values()))))\n",
    "        print(get_key(re,min(re.values())),re.pop(get_key(re,min(re.values()))))\n",
    "else:\n",
    "    print(\"Тройка лидеров:\")\n",
    "    print(get_key(re,min(re.values())),re.pop(get_key(re,min(re.values()))))\n",
    "    print(get_key(re,min(re.values())),re.pop(get_key(re,min(re.values()))))\n",
    "    print(get_key(re,min(re.values())),re.pop(get_key(re,min(re.values()))))"
   ]
  },
  {
   "cell_type": "code",
   "execution_count": null,
   "metadata": {},
   "outputs": [],
   "source": []
  }
 ],
 "metadata": {
  "kernelspec": {
   "display_name": "Python 3",
   "language": "python",
   "name": "python3"
  },
  "language_info": {
   "codemirror_mode": {
    "name": "ipython",
    "version": 3
   },
   "file_extension": ".py",
   "mimetype": "text/x-python",
   "name": "python",
   "nbconvert_exporter": "python",
   "pygments_lexer": "ipython3",
   "version": "3.6.5"
  }
 },
 "nbformat": 4,
 "nbformat_minor": 2
}
